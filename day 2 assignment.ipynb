{
 "cells": [
  {
   "cell_type": "code",
   "execution_count": 2,
   "metadata": {},
   "outputs": [],
   "source": [
    "import pandas as ps\n",
    "import numpy as np\n",
    "import seaborn as sn\n",
    "import matplotlib as mp\n",
    "import matplotlib.pyplot as plt\n",
    "%matplotlib inline\n",
    "from numpy.random import randn, randint, uniform, sample"
   ]
  },
  {
   "cell_type": "code",
   "execution_count": 3,
   "metadata": {},
   "outputs": [
    {
     "data": {
      "text/html": [
       "<div>\n",
       "<style scoped>\n",
       "    .dataframe tbody tr th:only-of-type {\n",
       "        vertical-align: middle;\n",
       "    }\n",
       "\n",
       "    .dataframe tbody tr th {\n",
       "        vertical-align: top;\n",
       "    }\n",
       "\n",
       "    .dataframe thead th {\n",
       "        text-align: right;\n",
       "    }\n",
       "</style>\n",
       "<table border=\"1\" class=\"dataframe\">\n",
       "  <thead>\n",
       "    <tr style=\"text-align: right;\">\n",
       "      <th></th>\n",
       "      <th>a</th>\n",
       "      <th>b</th>\n",
       "      <th>c</th>\n",
       "      <th>d</th>\n",
       "    </tr>\n",
       "  </thead>\n",
       "  <tbody>\n",
       "    <tr>\n",
       "      <th>0</th>\n",
       "      <td>0.421182</td>\n",
       "      <td>0.321120</td>\n",
       "      <td>-1.710473</td>\n",
       "      <td>1.572194</td>\n",
       "    </tr>\n",
       "    <tr>\n",
       "      <th>1</th>\n",
       "      <td>0.365912</td>\n",
       "      <td>-0.239952</td>\n",
       "      <td>-0.574968</td>\n",
       "      <td>1.117272</td>\n",
       "    </tr>\n",
       "    <tr>\n",
       "      <th>2</th>\n",
       "      <td>-0.222918</td>\n",
       "      <td>0.436689</td>\n",
       "      <td>0.678856</td>\n",
       "      <td>-1.025888</td>\n",
       "    </tr>\n",
       "    <tr>\n",
       "      <th>3</th>\n",
       "      <td>0.669133</td>\n",
       "      <td>1.527834</td>\n",
       "      <td>-1.268519</td>\n",
       "      <td>0.207245</td>\n",
       "    </tr>\n",
       "    <tr>\n",
       "      <th>4</th>\n",
       "      <td>-1.224201</td>\n",
       "      <td>1.688983</td>\n",
       "      <td>1.697099</td>\n",
       "      <td>0.477581</td>\n",
       "    </tr>\n",
       "    <tr>\n",
       "      <th>5</th>\n",
       "      <td>0.351349</td>\n",
       "      <td>-0.822050</td>\n",
       "      <td>0.280544</td>\n",
       "      <td>1.236539</td>\n",
       "    </tr>\n",
       "    <tr>\n",
       "      <th>6</th>\n",
       "      <td>-0.492560</td>\n",
       "      <td>-0.164379</td>\n",
       "      <td>-2.260500</td>\n",
       "      <td>0.178212</td>\n",
       "    </tr>\n",
       "    <tr>\n",
       "      <th>7</th>\n",
       "      <td>0.552190</td>\n",
       "      <td>1.985887</td>\n",
       "      <td>-0.576236</td>\n",
       "      <td>-0.346580</td>\n",
       "    </tr>\n",
       "    <tr>\n",
       "      <th>8</th>\n",
       "      <td>-0.510115</td>\n",
       "      <td>-1.081082</td>\n",
       "      <td>0.150065</td>\n",
       "      <td>-1.533149</td>\n",
       "    </tr>\n",
       "    <tr>\n",
       "      <th>9</th>\n",
       "      <td>0.216624</td>\n",
       "      <td>-0.485189</td>\n",
       "      <td>-0.025173</td>\n",
       "      <td>-0.348018</td>\n",
       "    </tr>\n",
       "  </tbody>\n",
       "</table>\n",
       "</div>"
      ],
      "text/plain": [
       "          a         b         c         d\n",
       "0  0.421182  0.321120 -1.710473  1.572194\n",
       "1  0.365912 -0.239952 -0.574968  1.117272\n",
       "2 -0.222918  0.436689  0.678856 -1.025888\n",
       "3  0.669133  1.527834 -1.268519  0.207245\n",
       "4 -1.224201  1.688983  1.697099  0.477581\n",
       "5  0.351349 -0.822050  0.280544  1.236539\n",
       "6 -0.492560 -0.164379 -2.260500  0.178212\n",
       "7  0.552190  1.985887 -0.576236 -0.346580\n",
       "8 -0.510115 -1.081082  0.150065 -1.533149\n",
       "9  0.216624 -0.485189 -0.025173 -0.348018"
      ]
     },
     "execution_count": 3,
     "metadata": {},
     "output_type": "execute_result"
    }
   ],
   "source": [
    "df=ps.DataFrame(randn(10,4),columns=['a','b','c','d'])\n",
    "df\n"
   ]
  },
  {
   "cell_type": "code",
   "execution_count": 11,
   "metadata": {},
   "outputs": [
    {
     "data": {
      "text/plain": [
       "<AxesSubplot:title={'center':'bar plot'}>"
      ]
     },
     "execution_count": 11,
     "metadata": {},
     "output_type": "execute_result"
    },
    {
     "data": {
      "image/png": "[encoded data removed]",
      "text/plain": [
       "<Figure size 432x288 with 1 Axes>"
      ]
     },
     "metadata": {
      "needs_background": "light"
     },
     "output_type": "display_data"
    }
   ],
   "source": [
    "df.plot(kind='bar',title='bar plot')"
   ]
  }
 ],
 "metadata": {
  "kernelspec": {
   "display_name": "Python 3",
   "language": "python",
   "name": "python3"
  },
  "language_info": {
   "codemirror_mode": {
    "name": "ipython",
    "version": 3
   },
   "file_extension": ".py",
   "mimetype": "text/x-python",
   "name": "python",
   "nbconvert_exporter": "python",
   "pygments_lexer": "ipython3",
   "version": "3.8.5"
  }
 },
 "nbformat": 4,
 "nbformat_minor": 4
}
